{
 "cells": [
  {
   "cell_type": "code",
   "execution_count": 183,
   "metadata": {},
   "outputs": [],
   "source": [
    "from sklearn.cross_validation import train_test_split\n",
    "from sklearn.metrics import classification_report\n",
    "from sklearn.linear_model import LogisticRegression\n",
    "from sklearn.neural_network import BernoulliRBM\n",
    "from sklearn.grid_search import GridSearchCV\n",
    "from sklearn.pipeline import Pipeline\n",
    "import numpy as np\n",
    "import argparse\n",
    "import time\n",
    "import pandas as pd\n",
    "import matplotlib.pyplot as plt\n",
    "from sklearn.utils import resample\n",
    "from sklearn.preprocessing import MinMaxScaler"
   ]
  },
  {
   "cell_type": "code",
   "execution_count": 133,
   "metadata": {},
   "outputs": [],
   "source": [
    "df = pd.read_csv(\"creditcard.csv\")"
   ]
  },
  {
   "cell_type": "code",
   "execution_count": 134,
   "metadata": {},
   "outputs": [
    {
     "data": {
      "text/plain": [
       "(284807, 31)"
      ]
     },
     "execution_count": 134,
     "metadata": {},
     "output_type": "execute_result"
    }
   ],
   "source": [
    "df.shape"
   ]
  },
  {
   "cell_type": "code",
   "execution_count": 135,
   "metadata": {},
   "outputs": [
    {
     "data": {
      "text/plain": [
       "Text(0,0.5,u'Frequency')"
      ]
     },
     "execution_count": 135,
     "metadata": {},
     "output_type": "execute_result"
    },
    {
     "data": {
      "image/png": "[encoded data removed]",
      "text/plain": [
       "<matplotlib.figure.Figure at 0x7fbf9cd47c90>"
      ]
     },
     "metadata": {},
     "output_type": "display_data"
    }
   ],
   "source": [
    "LABELS = [\"Normal\", \"Fraud\"]\n",
    "count_classes = pd.value_counts(df['Class'], sort = True)\n",
    "count_classes.plot(kind = 'bar', rot=0)\n",
    "plt.title(\"Transaction class distribution\")\n",
    "plt.xticks(range(2), LABELS)\n",
    "plt.xlabel(\"Class\")\n",
    "plt.ylabel(\"Frequency\")"
   ]
  },
  {
   "cell_type": "code",
   "execution_count": 138,
   "metadata": {},
   "outputs": [],
   "source": [
    "from sklearn.preprocessing import MinMaxScaler\n",
    "\n",
    "data = df.drop(['Time'], axis=1)\n",
    "\n",
    "#data['Amount'] = MinMaxScaler().fit_transform(data['Amount'].values.reshape(-1, 1))"
   ]
  },
  {
   "cell_type": "code",
   "execution_count": 140,
   "metadata": {},
   "outputs": [],
   "source": [
    "data.iloc[:,0:29] = MinMaxScaler().fit_transform(data.iloc[:,0:29].values.reshape(-1, 29))"
   ]
  },
  {
   "cell_type": "code",
   "execution_count": 124,
   "metadata": {},
   "outputs": [
    {
     "data": {
      "text/plain": [
       "array([[ 0.93519234,  0.76649042],\n",
       "       [ 0.97854195,  0.77006665],\n",
       "       [ 0.93521702,  0.75311767],\n",
       "       ..., \n",
       "       [ 0.99090481,  0.76407969],\n",
       "       [ 0.954209  ,  0.77285574],\n",
       "       [ 0.94923176,  0.7652564 ]])"
      ]
     },
     "execution_count": 124,
     "metadata": {},
     "output_type": "execute_result"
    }
   ],
   "source": [
    "MinMaxScaler().fit_transform(data.loc[:,['V1','V2']].values.reshape(-1, 2))"
   ]
  },
  {
   "cell_type": "code",
   "execution_count": 193,
   "metadata": {},
   "outputs": [],
   "source": [
    "y = data['Class']\n",
    "X = data.iloc[:,0:29]\n",
    "\n",
    "(trainX, testX, trainY, testY) = train_test_split(X, y, test_size = 0.2, random_state = 42)"
   ]
  },
  {
   "cell_type": "code",
   "execution_count": 194,
   "metadata": {},
   "outputs": [],
   "source": [
    "(trainSet, testSet) = train_test_split(data, test_size = 0.2, random_state = 42)"
   ]
  },
  {
   "cell_type": "code",
   "execution_count": 195,
   "metadata": {},
   "outputs": [],
   "source": [
    "df_majority = trainSet[trainSet.Class==0]\n",
    "df_minority = trainSet[trainSet.Class==1]"
   ]
  },
  {
   "cell_type": "code",
   "execution_count": 235,
   "metadata": {},
   "outputs": [],
   "source": [
    "# Upsample minority class\n",
    "df_minority_upsampled = resample(df_minority, \n",
    "                                 replace=True,     # sample with replacement\n",
    "                                 n_samples=60000,    # to match majority class\n",
    "                                 random_state=123) # reproducible results"
   ]
  },
  {
   "cell_type": "code",
   "execution_count": 236,
   "metadata": {},
   "outputs": [],
   "source": [
    "# Combine majority class with upsampled minority class\n",
    "df_upsampled = pd.concat([df_majority, df_minority_upsampled])"
   ]
  },
  {
   "cell_type": "code",
   "execution_count": 237,
   "metadata": {},
   "outputs": [
    {
     "data": {
      "text/plain": [
       "0    227451\n",
       "1     60000\n",
       "Name: Class, dtype: int64"
      ]
     },
     "execution_count": 237,
     "metadata": {},
     "output_type": "execute_result"
    }
   ],
   "source": [
    " # Display new class counts\n",
    "df_upsampled.Class.value_counts()"
   ]
  },
  {
   "cell_type": "code",
   "execution_count": 238,
   "metadata": {},
   "outputs": [],
   "source": [
    "trainY = df_upsampled['Class']\n",
    "trainX = df_upsampled.iloc[:,0:29]\n",
    "\n",
    "testY = testSet['Class']\n",
    "testX = testSet.iloc[:,0:29]"
   ]
  },
  {
   "cell_type": "code",
   "execution_count": 250,
   "metadata": {},
   "outputs": [
    {
     "name": "stdout",
     "output_type": "stream",
     "text": [
      "[BernoulliRBM] Iteration 1, pseudo-likelihood = -17.29, time = 4.39s\n",
      "[BernoulliRBM] Iteration 2, pseudo-likelihood = -17.31, time = 7.20s\n",
      "[BernoulliRBM] Iteration 3, pseudo-likelihood = -17.35, time = 6.49s\n",
      "[BernoulliRBM] Iteration 4, pseudo-likelihood = -17.21, time = 6.45s\n",
      "[BernoulliRBM] Iteration 5, pseudo-likelihood = -17.15, time = 6.43s\n",
      "[BernoulliRBM] Iteration 6, pseudo-likelihood = -17.13, time = 6.41s\n",
      "[BernoulliRBM] Iteration 7, pseudo-likelihood = -17.28, time = 6.41s\n",
      "[BernoulliRBM] Iteration 8, pseudo-likelihood = -17.13, time = 6.41s\n",
      "[BernoulliRBM] Iteration 9, pseudo-likelihood = -16.97, time = 6.41s\n",
      "[BernoulliRBM] Iteration 10, pseudo-likelihood = -17.16, time = 6.40s\n",
      "[BernoulliRBM] Iteration 11, pseudo-likelihood = -17.04, time = 6.42s\n",
      "[BernoulliRBM] Iteration 12, pseudo-likelihood = -17.18, time = 6.43s\n",
      "[BernoulliRBM] Iteration 13, pseudo-likelihood = -17.15, time = 6.39s\n",
      "[BernoulliRBM] Iteration 14, pseudo-likelihood = -17.10, time = 6.43s\n",
      "[BernoulliRBM] Iteration 15, pseudo-likelihood = -16.96, time = 6.40s\n",
      "[BernoulliRBM] Iteration 16, pseudo-likelihood = -16.94, time = 6.39s\n",
      "[BernoulliRBM] Iteration 17, pseudo-likelihood = -17.11, time = 6.40s\n",
      "[BernoulliRBM] Iteration 18, pseudo-likelihood = -17.04, time = 7.52s\n",
      "[BernoulliRBM] Iteration 19, pseudo-likelihood = -17.23, time = 6.63s\n",
      "[BernoulliRBM] Iteration 20, pseudo-likelihood = -17.07, time = 6.39s\n",
      "             precision    recall  f1-score   support\n",
      "\n",
      "          0       1.00      1.00      1.00     56864\n",
      "          1       0.83      0.26      0.39        98\n",
      "\n",
      "avg / total       1.00      1.00      1.00     56962\n",
      "\n"
     ]
    }
   ],
   "source": [
    "rbm = BernoulliRBM(n_components = 100, n_iter = 20, learning_rate = 0.06,  verbose = True)\n",
    "\n",
    "logistic = LogisticRegression(C = 1.0)\n",
    "\n",
    "# train the classifier and show an evaluation report\n",
    "classifier = Pipeline([(\"rbm\", rbm), (\"logistic\", logistic)])\n",
    "classifier.fit(trainX, trainY)\n",
    "\n",
    "print classification_report(testY, classifier.predict(testX))"
   ]
  },
  {
   "cell_type": "code",
   "execution_count": 251,
   "metadata": {},
   "outputs": [
    {
     "data": {
      "image/png": "[encoded data removed]",
      "text/plain": [
       "<matplotlib.figure.Figure at 0x7fbfa0966f90>"
      ]
     },
     "metadata": {},
     "output_type": "display_data"
    }
   ],
   "source": [
    "from sklearn.metrics import roc_curve, auc  \n",
    "predictions = classifier.predict_proba(testX)  \n",
    "false_positive_rate, recall, thresholds = roc_curve(testY, predictions[:, 1])  \n",
    "roc_auc = auc(false_positive_rate, recall)  \n",
    "plt.title('Receiver Operating Characteristic')  \n",
    "plt.plot(false_positive_rate, recall, 'b', label='AUC = %0.2f' % roc_auc)  \n",
    "plt.legend(loc='lower right')  \n",
    "plt.plot([0, 1], [0, 1], 'r--')  \n",
    "plt.xlim([0.0, 1.0])  \n",
    "plt.ylim([0.0, 1.0])\n",
    "plt.ylabel('True Positive Rate')  \n",
    "plt.xlabel('False Positive Rate')  \n",
    "plt.show()  "
   ]
  },
  {
   "cell_type": "code",
   "execution_count": 252,
   "metadata": {},
   "outputs": [
    {
     "data": {
      "text/plain": [
       "Text(0.5,1,u'2-class Precision-Recall curve: AP=0.66')"
      ]
     },
     "execution_count": 252,
     "metadata": {},
     "output_type": "execute_result"
    },
    {
     "data": {
      "image/png": "[encoded data removed]",
      "text/plain": [
       "<matplotlib.figure.Figure at 0x7fbfa3f4d950>"
      ]
     },
     "metadata": {},
     "output_type": "display_data"
    }
   ],
   "source": [
    "from sklearn.metrics import average_precision_score\n",
    "from sklearn.metrics import precision_recall_curve\n",
    "import matplotlib.pyplot as plt\n",
    "\n",
    "predictions = classifier.predict_proba(testX) \n",
    "\n",
    "average_precision = average_precision_score(testY, predictions[:, 1])\n",
    "\n",
    "precision, recall, _ = precision_recall_curve(testY, predictions[:, 1])\n",
    "\n",
    "plt.step(recall, precision, color='b', alpha=0.2,where='post')\n",
    "plt.fill_between(recall, precision, step='post', alpha=0.2,color='b')\n",
    "\n",
    "plt.xlabel('Recall')\n",
    "plt.ylabel('Precision')\n",
    "plt.ylim([0.0, 1.05])\n",
    "plt.xlim([0.0, 1.0])\n",
    "plt.title('2-class Precision-Recall curve: AP={0:0.2f}'.format(average_precision))"
   ]
  },
  {
   "cell_type": "code",
   "execution_count": 255,
   "metadata": {},
   "outputs": [
    {
     "name": "stdout",
     "output_type": "stream",
     "text": [
      "             precision    recall  f1-score   support\n",
      "\n",
      "          0       1.00      0.99      1.00     56864\n",
      "          1       0.21      0.87      0.33        98\n",
      "\n",
      "avg / total       1.00      0.99      1.00     56962\n",
      "\n"
     ]
    }
   ],
   "source": [
    "logistic = LogisticRegression(C = 1.0)\n",
    "logistic.fit(trainX, trainY)\n",
    "print classification_report(testY, logistic.predict(testX))\t"
   ]
  },
  {
   "cell_type": "code",
   "execution_count": 248,
   "metadata": {},
   "outputs": [
    {
     "data": {
      "image/png": "[encoded data removed]",
      "text/plain": [
       "<matplotlib.figure.Figure at 0x7fbfa3d2db90>"
      ]
     },
     "metadata": {},
     "output_type": "display_data"
    }
   ],
   "source": [
    "predictions = logistic.predict_proba(testX)  \n",
    "false_positive_rate, recall, thresholds = roc_curve(testY, predictions[:, 1])  \n",
    "roc_auc = auc(false_positive_rate, recall)  \n",
    "plt.title('Receiver Operating Characteristic')  \n",
    "plt.plot(false_positive_rate, recall, 'b', label='AUC = %0.2f' % roc_auc)  \n",
    "plt.legend(loc='lower right')  \n",
    "plt.plot([0, 1], [0, 1], 'r--')  \n",
    "plt.xlim([0.0, 1.0])  \n",
    "plt.ylim([0.0, 1.0])\n",
    "plt.ylabel('True Positive Rate')  \n",
    "plt.xlabel('False Positive Rate')  \n",
    "plt.show()  "
   ]
  },
  {
   "cell_type": "code",
   "execution_count": 249,
   "metadata": {},
   "outputs": [
    {
     "data": {
      "text/plain": [
       "Text(0.5,1,u'2-class Precision-Recall curve: AP=0.74')"
      ]
     },
     "execution_count": 249,
     "metadata": {},
     "output_type": "execute_result"
    },
    {
     "data": {
      "image/png": "[encoded data removed]",
      "text/plain": [
       "<matplotlib.figure.Figure at 0x7fbfa3de2e90>"
      ]
     },
     "metadata": {},
     "output_type": "display_data"
    }
   ],
   "source": [
    "predictions = logistic.predict_proba(testX)\n",
    "\n",
    "average_precision = average_precision_score(testY, predictions[:, 1])\n",
    "\n",
    "precision, recall, _ = precision_recall_curve(testY, predictions[:, 1])\n",
    "\n",
    "plt.step(recall, precision, color='b', alpha=0.2,where='post')\n",
    "plt.fill_between(recall, precision, step='post', alpha=0.2,color='b')\n",
    "\n",
    "plt.xlabel('Recall')\n",
    "plt.ylabel('Precision')\n",
    "plt.ylim([0.0, 1.05])\n",
    "plt.xlim([0.0, 1.0])\n",
    "plt.title('2-class Precision-Recall curve: AP={0:0.2f}'.format(average_precision))"
   ]
  },
  {
   "cell_type": "code",
   "execution_count": 254,
   "metadata": {},
   "outputs": [
    {
     "name": "stdout",
     "output_type": "stream",
     "text": [
      "[BernoulliRBM] Iteration 1, pseudo-likelihood = -17.14, time = 4.39s\n",
      "[BernoulliRBM] Iteration 2, pseudo-likelihood = -17.14, time = 6.54s\n",
      "[BernoulliRBM] Iteration 3, pseudo-likelihood = -17.22, time = 6.53s\n",
      "[BernoulliRBM] Iteration 4, pseudo-likelihood = -17.08, time = 6.51s\n",
      "[BernoulliRBM] Iteration 5, pseudo-likelihood = -17.24, time = 6.48s\n",
      "[BernoulliRBM] Iteration 6, pseudo-likelihood = -17.02, time = 6.47s\n",
      "[BernoulliRBM] Iteration 7, pseudo-likelihood = -17.04, time = 6.46s\n",
      "[BernoulliRBM] Iteration 8, pseudo-likelihood = -17.16, time = 6.46s\n",
      "[BernoulliRBM] Iteration 9, pseudo-likelihood = -17.08, time = 6.45s\n",
      "[BernoulliRBM] Iteration 10, pseudo-likelihood = -17.13, time = 6.46s\n",
      "[BernoulliRBM] Iteration 11, pseudo-likelihood = -17.10, time = 6.45s\n",
      "[BernoulliRBM] Iteration 12, pseudo-likelihood = -16.97, time = 6.48s\n",
      "[BernoulliRBM] Iteration 13, pseudo-likelihood = -16.96, time = 6.45s\n",
      "[BernoulliRBM] Iteration 14, pseudo-likelihood = -17.11, time = 6.46s\n",
      "[BernoulliRBM] Iteration 15, pseudo-likelihood = -17.03, time = 6.44s\n",
      "[BernoulliRBM] Iteration 16, pseudo-likelihood = -17.14, time = 6.45s\n",
      "[BernoulliRBM] Iteration 17, pseudo-likelihood = -16.88, time = 6.50s\n",
      "[BernoulliRBM] Iteration 18, pseudo-likelihood = -17.04, time = 6.44s\n",
      "[BernoulliRBM] Iteration 19, pseudo-likelihood = -17.06, time = 6.44s\n",
      "[BernoulliRBM] Iteration 20, pseudo-likelihood = -17.10, time = 6.43s\n",
      "             precision    recall  f1-score   support\n",
      "\n",
      "          0       1.00      1.00      1.00     56864\n",
      "          1       0.40      0.79      0.53        98\n",
      "\n",
      "avg / total       1.00      1.00      1.00     56962\n",
      "\n"
     ]
    }
   ],
   "source": [
    "rbm = BernoulliRBM(n_components = 100, n_iter = 20,learning_rate = 0.06,  verbose = True)\n",
    "\n",
    "logistic = LogisticRegression(C = 600.0)\n",
    "\n",
    "# train the classifier and show an evaluation report\n",
    "classifier_3 = Pipeline([(\"rbm\", rbm), (\"logistic\", logistic)])\n",
    "classifier_3.fit(trainX, trainY)\n",
    "\n",
    "print classification_report(testY, classifier_3.predict(testX))\n"
   ]
  },
  {
   "cell_type": "code",
   "execution_count": 258,
   "metadata": {},
   "outputs": [
    {
     "name": "stdout",
     "output_type": "stream",
     "text": [
      "[BernoulliRBM] Iteration 1, pseudo-likelihood = -17.32, time = 4.42s\n",
      "[BernoulliRBM] Iteration 2, pseudo-likelihood = -17.18, time = 6.50s\n",
      "[BernoulliRBM] Iteration 3, pseudo-likelihood = -17.08, time = 6.46s\n",
      "[BernoulliRBM] Iteration 4, pseudo-likelihood = -17.29, time = 6.47s\n",
      "[BernoulliRBM] Iteration 5, pseudo-likelihood = -17.11, time = 6.44s\n",
      "[BernoulliRBM] Iteration 6, pseudo-likelihood = -17.20, time = 6.45s\n",
      "[BernoulliRBM] Iteration 7, pseudo-likelihood = -17.27, time = 6.44s\n",
      "[BernoulliRBM] Iteration 8, pseudo-likelihood = -17.04, time = 6.44s\n",
      "[BernoulliRBM] Iteration 9, pseudo-likelihood = -17.15, time = 7.15s\n",
      "[BernoulliRBM] Iteration 10, pseudo-likelihood = -17.02, time = 6.43s\n",
      "[BernoulliRBM] Iteration 11, pseudo-likelihood = -17.02, time = 6.41s\n",
      "[BernoulliRBM] Iteration 12, pseudo-likelihood = -17.09, time = 6.43s\n",
      "[BernoulliRBM] Iteration 13, pseudo-likelihood = -17.03, time = 6.80s\n",
      "[BernoulliRBM] Iteration 14, pseudo-likelihood = -17.08, time = 6.65s\n",
      "[BernoulliRBM] Iteration 15, pseudo-likelihood = -17.20, time = 6.41s\n",
      "[BernoulliRBM] Iteration 16, pseudo-likelihood = -17.14, time = 6.41s\n",
      "[BernoulliRBM] Iteration 17, pseudo-likelihood = -17.06, time = 6.41s\n",
      "[BernoulliRBM] Iteration 18, pseudo-likelihood = -17.10, time = 6.43s\n",
      "[BernoulliRBM] Iteration 19, pseudo-likelihood = -17.07, time = 6.40s\n",
      "[BernoulliRBM] Iteration 20, pseudo-likelihood = -17.22, time = 6.43s\n",
      "             precision    recall  f1-score   support\n",
      "\n",
      "          0       1.00      1.00      1.00     56864\n",
      "          1       0.65      0.85      0.73        98\n",
      "\n",
      "avg / total       1.00      1.00      1.00     56962\n",
      "\n"
     ]
    }
   ],
   "source": [
    "from sklearn.ensemble import VotingClassifier\n",
    "# create the sub models\n",
    "estimators = []\n",
    "model1 = classifier\n",
    "estimators.append(('logistic', model1))\n",
    "model2 = logistic\n",
    "estimators.append(('cart', model2))\n",
    "# create the ensemble model\n",
    "ensemble = VotingClassifier(estimators,voting='soft')\n",
    "\n",
    "ensemble = ensemble.fit(trainX, trainY)\n",
    "\n",
    "print classification_report(testY, ensemble.predict(testX))"
   ]
  },
  {
   "cell_type": "code",
   "execution_count": 259,
   "metadata": {},
   "outputs": [
    {
     "data": {
      "image/png": "[encoded data removed]",
      "text/plain": [
       "<matplotlib.figure.Figure at 0x7fbfb6d3c210>"
      ]
     },
     "metadata": {},
     "output_type": "display_data"
    }
   ],
   "source": [
    "predictions = ensemble.predict_proba(testX)  \n",
    "false_positive_rate, recall, thresholds = roc_curve(testY, predictions[:, 1])  \n",
    "roc_auc = auc(false_positive_rate, recall)  \n",
    "plt.title('Receiver Operating Characteristic')  \n",
    "plt.plot(false_positive_rate, recall, 'b', label='AUC = %0.2f' % roc_auc)  \n",
    "plt.legend(loc='lower right')  \n",
    "plt.plot([0, 1], [0, 1], 'r--')  \n",
    "plt.xlim([0.0, 1.0])  \n",
    "plt.ylim([0.0, 1.0])\n",
    "plt.ylabel('True Positive Rate')  \n",
    "plt.xlabel('False Positive Rate')  \n",
    "plt.show()  "
   ]
  },
  {
   "cell_type": "code",
   "execution_count": null,
   "metadata": {},
   "outputs": [],
   "source": []
  }
 ],
 "metadata": {
  "kernelspec": {
   "display_name": "Python 2.7",
   "language": "python",
   "name": "python27"
  },
  "language_info": {
   "codemirror_mode": {
    "name": "ipython",
    "version": 2
   },
   "file_extension": ".py",
   "mimetype": "text/x-python",
   "name": "python",
   "nbconvert_exporter": "python",
   "pygments_lexer": "ipython2",
   "version": "2.7.14"
  }
 },
 "nbformat": 4,
 "nbformat_minor": 2
}
