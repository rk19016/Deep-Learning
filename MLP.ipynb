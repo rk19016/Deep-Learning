{
 "cells": [
  {
   "cell_type": "code",
   "execution_count": 1,
   "metadata": {},
   "outputs": [
    {
     "name": "stderr",
     "output_type": "stream",
     "text": [
      "Using TensorFlow backend.\n"
     ]
    }
   ],
   "source": [
    "from __future__ import print_function\n",
    "import numpy as np\n",
    "import pandas as pd\n",
    "import matplotlib\n",
    "matplotlib.use('Agg')\n",
    "import matplotlib.pyplot as plt\n",
    "from keras.models import Sequential\n",
    "from keras.layers import Dense, Dropout\n",
    "from keras_contrib.layers import SReLU\n",
    "from keras.callbacks import BaseLogger, EarlyStopping, ReduceLROnPlateau, TensorBoard\n",
    "from sklearn.preprocessing import StandardScaler\n",
    "from sklearn.utils import compute_class_weight\n",
    "from sklearn.model_selection import StratifiedKFold\n",
    "from sklearn.metrics import classification_report, roc_curve, auc, precision_recall_curve\n",
    "from sklearn.preprocessing import LabelEncoder\n",
    "from keras.utils import np_utils\n",
    "from scipy import stats\n",
    "import os\n",
    "%matplotlib inline"
   ]
  },
  {
   "cell_type": "code",
   "execution_count": 18,
   "metadata": {},
   "outputs": [],
   "source": [
    "seed = 1\n",
    "data = pd.read_csv('creditcard.csv')\n",
    "data.iloc[:, 1:29] = StandardScaler().fit_transform(data.iloc[:, 1:29])\n",
    "data_matrix = data.as_matrix()\n",
    "X = data_matrix[:, 1:29]\n",
    "Y = data_matrix[:, 30]\n",
    "class_weights = dict(zip([0, 1], compute_class_weight('balanced', [0, 1], Y)))\n",
    "kfold = StratifiedKFold(n_splits = 5, shuffle = True, random_state = seed)"
   ]
  },
  {
   "cell_type": "code",
   "execution_count": 19,
   "metadata": {},
   "outputs": [],
   "source": [
    "# encode class values as integers\n",
    "encoder = LabelEncoder()\n",
    "encoded_Y = encoder.fit_transform(Y)\n",
    "# convert integers to dummy variables (one hot encoding)\n",
    "dummy_y = np_utils.to_categorical(encoded_Y)"
   ]
  },
  {
   "cell_type": "code",
   "execution_count": 20,
   "metadata": {},
   "outputs": [],
   "source": [
    "# Define a model generator\n",
    "def generate_model():\n",
    "    _model = Sequential()\n",
    "    _model.add(Dense(15, input_dim=28))\n",
    "    _model.add(SReLU())\n",
    "    _model.add(Dropout(0.2))\n",
    "    _model.add(Dense(2, activation='sigmoid'))\n",
    "    _model.compile(loss='binary_crossentropy', optimizer='adam')\n",
    "    return _model"
   ]
  },
  {
   "cell_type": "code",
   "execution_count": 21,
   "metadata": {},
   "outputs": [],
   "source": [
    "predictions = np.empty([len(Y), kfold.n_splits])\n",
    "\n",
    "k = 0 \n",
    "for train, test in kfold.split(X, np.zeros(shape=(X.shape[0], 1))):\n",
    "    X_train, X_test = X[train], X[test]\n",
    "    y_train, y_test = dummy_y[train], dummy_y[test]\n",
    "    # Define model\n",
    "    model = generate_model()\n",
    "    # Fit the model\n",
    "    history = model.fit(X_train, y_train,\n",
    "                        batch_size=1200,\n",
    "                        epochs=100,\n",
    "                        verbose=0,\n",
    "                        shuffle=True,\n",
    "                        validation_data=(X_test, y_test),\n",
    "                        class_weight=class_weights)\n",
    "    # Store the predicted probabilities and iterate k\n",
    "    pred = model.predict_classes(X_test)\n",
    "    predictions[test, k] = pred\n",
    "    k += 1"
   ]
  },
  {
   "cell_type": "code",
   "execution_count": 15,
   "metadata": {},
   "outputs": [
    {
     "name": "stdout",
     "output_type": "stream",
     "text": [
      "             precision    recall  f1-score   support\n",
      "\n",
      "        0.0       1.00      0.99      0.99    284315\n",
      "        1.0       0.12      0.89      0.22       492\n",
      "\n",
      "avg / total       1.00      0.99      0.99    284807\n",
      "\n",
      "Predictions       0     1\n",
      "Truth                    \n",
      "0.0          281195  3120\n",
      "1.0              56   436\n"
     ]
    },
    {
     "data": {
      "image/png": "[encoded data removed]",
      "text/plain": [
       "<matplotlib.figure.Figure at 0x7f26666d2b10>"
      ]
     },
     "metadata": {},
     "output_type": "display_data"
    }
   ],
   "source": [
    "# yhat = np.nanmean(predictions, axis=1).round().astype(int)\n",
    "# yhat = stats.mode(predictions.T).mode.T[:,0]\n",
    "yhat = np.max(predictions, axis=1).round().astype(int)\n",
    "\n",
    "# Performance\n",
    "print(classification_report(Y, yhat))\n",
    "print(pd.crosstab(Y, yhat.flatten(), rownames=['Truth'], colnames=['Predictions']))\n",
    "\n",
    "fpr, tpr, thresholds = roc_curve(Y, yhat)\n",
    "roc_auc = auc(fpr, tpr)\n",
    "\n",
    "plt.title('Receiver Operating Characteristic')\n",
    "plt.plot(fpr, tpr, 'b', label='AUC = %0.2f'% roc_auc)\n",
    "plt.legend(loc='lower right')\n",
    "plt.plot([0,1],[0,1],'r--')\n",
    "plt.xlim([0.,1.])\n",
    "plt.ylim([0.,1.])\n",
    "plt.ylabel('True Positive Rate')\n",
    "plt.xlabel('False Positive Rate')\n",
    "plt.show()"
   ]
  },
  {
   "cell_type": "code",
   "execution_count": 10,
   "metadata": {},
   "outputs": [
    {
     "data": {
      "image/png": "[encoded data removed]",
      "text/plain": [
       "<matplotlib.figure.Figure at 0x7f2666690650>"
      ]
     },
     "metadata": {},
     "output_type": "display_data"
    }
   ],
   "source": [
    "precision, recall, thresholds = precision_recall_curve(Y, yhat)\n",
    "plt.clf()\n",
    "plt.title('Precision Recall Curve')\n",
    "plt.plot(recall, precision, 'b')\n",
    "plt.xlim([0.,1.])\n",
    "plt.ylim([0.,1.])\n",
    "plt.ylabel('Precision')\n",
    "plt.xlabel('Recall')\n",
    "plt.show()"
   ]
  },
  {
   "cell_type": "code",
   "execution_count": 32,
   "metadata": {},
   "outputs": [],
   "source": [
    "predictions = np.empty([len(Y), kfold.n_splits])\n",
    "\n",
    "k = 0 \n",
    "for train, test in kfold.split(X, np.zeros(shape=(X.shape[0], 1))):\n",
    "    X_train, X_test = X[train], X[test]\n",
    "    y_train, y_test = dummy_y[train], dummy_y[test]\n",
    "    # Define model\n",
    "    model = generate_model()\n",
    "    # Fit the model\n",
    "    history = model.fit(X_train, y_train,\n",
    "                        batch_size=1200,\n",
    "                        epochs=100,\n",
    "                        verbose=0,\n",
    "                        shuffle=True,\n",
    "                        validation_data=(X_test, y_test),\n",
    "                        class_weight=class_weights)\n",
    "    # Store the predicted probabilities and iterate k\n",
    "    pred = model.predict_proba(X_test)[:,1]\n",
    "    predictions[test, k] = pred\n",
    "    k += 1"
   ]
  },
  {
   "cell_type": "code",
   "execution_count": 34,
   "metadata": {},
   "outputs": [
    {
     "name": "stdout",
     "output_type": "stream",
     "text": [
      "             precision    recall  f1-score   support\n",
      "\n",
      "       -5.0       0.00      0.00      0.00         0\n",
      "       -4.0       0.00      0.00      0.00         0\n",
      "       -3.0       0.00      0.00      0.00         0\n",
      "       -2.0       0.00      0.00      0.00         0\n",
      "       -1.0       0.00      0.00      0.00         0\n",
      "        0.0       1.00      0.98      0.99    284315\n",
      "        1.0       0.00      0.04      0.01       492\n",
      "        2.0       0.00      0.00      0.00         0\n",
      "        3.0       0.00      0.00      0.00         0\n",
      "        4.0       0.00      0.00      0.00         0\n",
      "\n",
      "avg / total       1.00      0.98      0.99    284807\n",
      "\n",
      "Predictions  -5  -4  -3  -2    -1       0     1    2   3   4\n",
      "Truth                                                       \n",
      "0.0           3   4  16  22  1243  277857  4914  241  12   3\n",
      "1.0           0   0   0   0     1     470    20    1   0   0\n"
     ]
    },
    {
     "name": "stderr",
     "output_type": "stream",
     "text": [
      "/usr/local/anaconda2/lib/python2.7/site-packages/sklearn/metrics/classification.py:1137: UndefinedMetricWarning: Recall and F-score are ill-defined and being set to 0.0 in labels with no true samples.\n",
      "  'recall', 'true', average, warn_for)\n"
     ]
    },
    {
     "data": {
      "image/png": "[encoded data removed]",
      "text/plain": [
       "<matplotlib.figure.Figure at 0x7f264c1a6390>"
      ]
     },
     "metadata": {},
     "output_type": "display_data"
    }
   ],
   "source": [
    "yhat = np.nanmean(predictions, axis=1).round().astype(int)\n",
    "# yhat = stats.mode(predictions.T).mode.T[:,0]\n",
    "# yhat = np.max(predictions, axis=1).round().astype(int)\n",
    "\n",
    "# Performance\n",
    "print(classification_report(Y, yhat))\n",
    "print(pd.crosstab(Y, yhat.flatten(), rownames=['Truth'], colnames=['Predictions']))\n",
    "\n",
    "fpr, tpr, thresholds = roc_curve(Y, yhat)\n",
    "roc_auc = auc(fpr, tpr)\n",
    "\n",
    "plt.title('Receiver Operating Characteristic')\n",
    "plt.plot(fpr, tpr, 'b', label='AUC = %0.2f'% roc_auc)\n",
    "plt.legend(loc='lower right')\n",
    "plt.plot([0,1],[0,1],'r--')\n",
    "plt.xlim([0.,1.])\n",
    "plt.ylim([0.,1.])\n",
    "plt.ylabel('True Positive Rate')\n",
    "plt.xlabel('False Positive Rate')\n",
    "plt.show()"
   ]
  },
  {
   "cell_type": "code",
   "execution_count": 14,
   "metadata": {},
   "outputs": [
    {
     "name": "stdout",
     "output_type": "stream",
     "text": [
      "Train: [1 3 4 5 6 7] | test: [0 2]\n",
      " \n",
      "Train: [0 2 4 5 6 7] | test: [1 3]\n",
      " \n",
      "Train: [0 1 2 3 5 7] | test: [4 6]\n",
      " \n",
      "Train: [0 1 2 3 4 6] | test: [5 7]\n",
      " \n",
      "-----\n",
      "Train: [3 4 5 6 7] | test: [0 1 2]\n",
      " \n",
      "Train: [0 1 2 6 7] | test: [3 4 5]\n",
      " \n",
      "Train: [0 1 2 3 4 5] | test: [6 7]\n",
      " \n"
     ]
    }
   ],
   "source": [
    "import numpy as np \n",
    "from sklearn.model_selection import KFold,StratifiedKFold\n",
    "\n",
    "X=np.array([\n",
    "    [1,2,3,4],\n",
    "    [11,12,13,14],\n",
    "    [21,22,23,24],\n",
    "    [31,32,33,34],\n",
    "    [41,42,43,44],\n",
    "    [51,52,53,54],\n",
    "    [61,62,63,64],\n",
    "    [71,72,73,74]\n",
    "])\n",
    "\n",
    "y=np.array([1,1,0,0,1,1,0,0])\n",
    "#n_folds这个参数没有，引入的包不同，\n",
    "floder = KFold(n_splits=3,random_state=0,shuffle=False)\n",
    "sfolder = StratifiedKFold(n_splits=4,random_state=0,shuffle=False)\n",
    "\n",
    "for train, test in sfolder.split(X,y):\n",
    "    print('Train: %s | test: %s' % (train, test))\n",
    "    print(\" \")\n",
    "\n",
    "print(\"-----\")\n",
    "for train, test in floder.split(X,y):\n",
    "    print('Train: %s | test: %s' % (train, test))\n",
    "    print(\" \")"
   ]
  },
  {
   "cell_type": "code",
   "execution_count": 80,
   "metadata": {},
   "outputs": [
    {
     "name": "stdout",
     "output_type": "stream",
     "text": [
      "TRAIN: [1 3 4 5] TEST: [0 2]\n",
      "TRAIN: [0 1 2 3] TEST: [4 5]\n",
      "TRAIN: [0 2 4 5] TEST: [1 3]\n",
      "TRAIN: [1 3 4 5] TEST: [0 2]\n",
      "TRAIN: [0 2 3 4] TEST: [1 5]\n",
      "TRAIN: [0 1 2 5] TEST: [3 4]\n",
      "TRAIN: [0 1 3 4] TEST: [2 5]\n",
      "TRAIN: [0 1 2 5] TEST: [3 4]\n",
      "TRAIN: [2 3 4 5] TEST: [0 1]\n"
     ]
    }
   ],
   "source": [
    "import numpy as np\n",
    "from sklearn.model_selection import RepeatedStratifiedKFold\n",
    "X = np.array([[1, 2], [3, 4], [1, 2], [3, 4], [3, 7], [9, 4]])\n",
    "# y = np.array([0, 0, 1, 1, 0, 1]) # <<< works\n",
    "y = X # does not work if passed into `.split`\n",
    "rskf = RepeatedStratifiedKFold(n_splits=3, n_repeats=3, random_state=36851234)\n",
    "for train_index, test_index in rskf.split(X, np.zeros(shape=(X.shape[0], 1))):\n",
    "    print(\"TRAIN:\", train_index, \"TEST:\", test_index)\n",
    "    X_train, X_test = X[train_index], X[test_index]\n",
    "    y_train, y_test = y[train_index], y[test_index]"
   ]
  },
  {
   "cell_type": "code",
   "execution_count": 153,
   "metadata": {},
   "outputs": [
    {
     "name": "stdout",
     "output_type": "stream",
     "text": [
      "[[1 3 2 2 1 1]]\n"
     ]
    }
   ],
   "source": [
    "import numpy as np\n",
    "from scipy import stats\n",
    "\n",
    "a = np.array([[1, 3, 4, 2, 2, 7],\n",
    "              [5, 2, 2, 1, 4, 1],\n",
    "              [3, 3, 2, 2, 1, 1]])\n",
    "\n",
    "m = stats.mode(a)\n",
    "print(m.mode)"
   ]
  },
  {
   "cell_type": "code",
   "execution_count": null,
   "metadata": {},
   "outputs": [],
   "source": []
  }
 ],
 "metadata": {
  "kernelspec": {
   "display_name": "Python 2.7",
   "language": "python",
   "name": "python27"
  },
  "language_info": {
   "codemirror_mode": {
    "name": "ipython",
    "version": 2
   },
   "file_extension": ".py",
   "mimetype": "text/x-python",
   "name": "python",
   "nbconvert_exporter": "python",
   "pygments_lexer": "ipython2",
   "version": "2.7.14"
  }
 },
 "nbformat": 4,
 "nbformat_minor": 2
}
